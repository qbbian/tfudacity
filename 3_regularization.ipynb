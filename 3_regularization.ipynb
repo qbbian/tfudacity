{
 "metadata": {
  "colab": {
   "default_view": {},
   "name": "3_regularization.ipynb",
   "provenance": [],
   "version": "0.3.2",
   "views": {}
  },
  "kernelspec": {
   "display_name": "Python 2",
   "language": "python",
   "name": "python2"
  },
  "language_info": {
   "codemirror_mode": {
    "name": "ipython",
    "version": 2
   },
   "file_extension": ".py",
   "mimetype": "text/x-python",
   "name": "python",
   "nbconvert_exporter": "python",
   "pygments_lexer": "ipython2",
   "version": "2.7.6"
  },
  "name": "",
  "signature": "sha256:a332e0bd694ce58542218667e9b082ef10509243aabb7daae5c0570b0974c169"
 },
 "nbformat": 3,
 "nbformat_minor": 0,
 "worksheets": [
  {
   "cells": [
    {
     "cell_type": "markdown",
     "metadata": {
      "colab_type": "text",
      "id": "kR-4eNdK6lYS"
     },
     "source": [
      "Deep Learning\n",
      "=============\n",
      "\n",
      "Assignment 3\n",
      "------------\n",
      "\n",
      "Previously in `2_fullyconnected.ipynb`, you trained a logistic regression and a neural network model.\n",
      "\n",
      "The goal of this assignment is to explore regularization techniques."
     ]
    },
    {
     "cell_type": "code",
     "collapsed": true,
     "input": [
      "# These are all the modules we'll be using later. Make sure you can import them\n",
      "# before proceeding further.\n",
      "from __future__ import print_function\n",
      "import numpy as np\n",
      "import tensorflow as tf\n",
      "from six.moves import cPickle as pickle"
     ],
     "language": "python",
     "metadata": {
      "cellView": "both",
      "colab": {
       "autoexec": {
        "startup": false,
        "wait_interval": 0
       }
      },
      "colab_type": "code",
      "id": "JLpLa8Jt7Vu4"
     },
     "outputs": [],
     "prompt_number": 79
    },
    {
     "cell_type": "markdown",
     "metadata": {
      "colab_type": "text",
      "id": "1HrCK6e17WzV"
     },
     "source": [
      "First reload the data we generated in _notmist.ipynb_."
     ]
    },
    {
     "cell_type": "code",
     "collapsed": false,
     "input": [
      "pickle_file = 'notMNIST.pickle'\n",
      "\n",
      "with open(pickle_file, 'rb') as f:\n",
      "  save = pickle.load(f)\n",
      "  train_dataset = save['train_dataset']\n",
      "  train_labels = save['train_labels']\n",
      "  valid_dataset = save['valid_dataset']\n",
      "  valid_labels = save['valid_labels']\n",
      "  test_dataset = save['test_dataset']\n",
      "  test_labels = save['test_labels']\n",
      "  del save  # hint to help gc free up memory\n",
      "  print('Training set', train_dataset.shape, train_labels.shape)\n",
      "  print('Validation set', valid_dataset.shape, valid_labels.shape)\n",
      "  print('Test set', test_dataset.shape, test_labels.shape)"
     ],
     "language": "python",
     "metadata": {
      "cellView": "both",
      "colab": {
       "autoexec": {
        "startup": false,
        "wait_interval": 0
       },
       "output_extras": [
        {
         "item_id": 1
        }
       ]
      },
      "colab_type": "code",
      "executionInfo": {
       "elapsed": 11777,
       "status": "ok",
       "timestamp": 1449849322348,
       "user": {
        "color": "",
        "displayName": "",
        "isAnonymous": false,
        "isMe": true,
        "permissionId": "",
        "photoUrl": "",
        "sessionId": "0",
        "userId": ""
       },
       "user_tz": 480
      },
      "id": "y3-cj1bpmuxc",
      "outputId": "e03576f1-ebbe-4838-c388-f1777bcc9873"
     },
     "outputs": [
      {
       "output_type": "stream",
       "stream": "stdout",
       "text": [
        "Training set (100000, 28, 28) (100000,)\n",
        "Validation set (1000, 28, 28) (1000,)\n",
        "Test set (1000, 28, 28) (1000,)\n"
       ]
      }
     ],
     "prompt_number": 80
    },
    {
     "cell_type": "markdown",
     "metadata": {
      "colab_type": "text",
      "id": "L7aHrm6nGDMB"
     },
     "source": [
      "Reformat into a shape that's more adapted to the models we're going to train:\n",
      "- data as a flat matrix,\n",
      "- labels as float 1-hot encodings."
     ]
    },
    {
     "cell_type": "code",
     "collapsed": false,
     "input": [
      "image_size = 28\n",
      "num_labels = 10\n",
      "\n",
      "def reformat(dataset, labels):\n",
      "  dataset = dataset.reshape((-1, image_size * image_size)).astype(np.float32)\n",
      "  # Map 2 to [0.0, 1.0, 0.0 ...], 3 to [0.0, 0.0, 1.0 ...]\n",
      "  labels = (np.arange(num_labels) == labels[:,None]).astype(np.float32)\n",
      "  return dataset, labels\n",
      "train_dataset, train_labels = reformat(train_dataset, train_labels)\n",
      "valid_dataset, valid_labels = reformat(valid_dataset, valid_labels)\n",
      "test_dataset, test_labels = reformat(test_dataset, test_labels)\n",
      "print('Training set', train_dataset.shape, train_labels.shape)\n",
      "print('Validation set', valid_dataset.shape, valid_labels.shape)\n",
      "print('Test set', test_dataset.shape, test_labels.shape)"
     ],
     "language": "python",
     "metadata": {
      "cellView": "both",
      "colab": {
       "autoexec": {
        "startup": false,
        "wait_interval": 0
       },
       "output_extras": [
        {
         "item_id": 1
        }
       ]
      },
      "colab_type": "code",
      "executionInfo": {
       "elapsed": 11728,
       "status": "ok",
       "timestamp": 1449849322356,
       "user": {
        "color": "",
        "displayName": "",
        "isAnonymous": false,
        "isMe": true,
        "permissionId": "",
        "photoUrl": "",
        "sessionId": "0",
        "userId": ""
       },
       "user_tz": 480
      },
      "id": "IRSyYiIIGIzS",
      "outputId": "3f8996ee-3574-4f44-c953-5c8a04636582"
     },
     "outputs": [
      {
       "output_type": "stream",
       "stream": "stdout",
       "text": [
        "Training set (100000, 784) (100000, 10)\n",
        "Validation set (1000, 784) (1000, 10)\n",
        "Test set (1000, 784) (1000, 10)\n"
       ]
      }
     ],
     "prompt_number": 81
    },
    {
     "cell_type": "code",
     "collapsed": true,
     "input": [
      "def accuracy(predictions, labels):\n",
      "  return (100.0 * np.sum(np.argmax(predictions, 1) == np.argmax(labels, 1))\n",
      "          / predictions.shape[0])"
     ],
     "language": "python",
     "metadata": {
      "cellView": "both",
      "colab": {
       "autoexec": {
        "startup": false,
        "wait_interval": 0
       }
      },
      "colab_type": "code",
      "id": "RajPLaL_ZW6w"
     },
     "outputs": [],
     "prompt_number": 82
    },
    {
     "cell_type": "markdown",
     "metadata": {
      "colab_type": "text",
      "id": "-b1hTz3VWZjw"
     },
     "source": [
      "---\n",
      "Problem 4\n",
      "---------\n",
      "\n",
      "Try to get the best performance you can using a multi-layer model! The best reported test accuracy using a deep network is [97.1%](http://yaroslavvb.blogspot.com/2011/09/notmnist-dataset.html?showComment=1391023266211#c8758720086795711595).\n",
      "\n",
      "One avenue you can explore is to add multiple layers.\n",
      "\n",
      "Another one is to use learning rate decay:\n",
      "\n",
      "    global_step = tf.Variable(0)  # count the number of steps taken.\n",
      "    learning_rate = tf.train.exponential_decay(0.5, global_step, ...)\n",
      "    optimizer = tf.train.GradientDescentOptimizer(learning_rate).minimize(loss, global_step=global_step)\n",
      " \n",
      " ---\n"
     ]
    },
    {
     "cell_type": "code",
     "collapsed": false,
     "input": [
      "batch_size = 128\n",
      "\n",
      "beta1 = 0.003\n",
      "beta2 = 0.003\n",
      "beta3 = 0.003\n",
      "beta4 = 0.003\n",
      "\n",
      "def calc_output(input, weights_layers, biases_layers, p, dropout = False):\n",
      "    #layers = len(weights_layers)\n",
      "    #print(\"Number of layers: %d\" % layers)\n",
      "    for i, weights_layer in enumerate (weights_layers):\n",
      "        biases_layer = biases_layers[i]\n",
      "        \n",
      "        output = tf.matmul(input, weights_layer) + biases_layer    \n",
      "        if i < len(weights_layers) - 1:\n",
      "            output = tf.nn.relu(output)\n",
      "            if dropout == True: # train sets\n",
      "                output = tf.nn.dropout(output, p)\n",
      "        \n",
      "        input = output\n",
      "    return output\n",
      "    \n",
      "graph = tf.Graph()\n",
      "with graph.as_default():\n",
      "\n",
      "  # Input data. For the training data, we use a placeholder that will be fed\n",
      "  # at run time with a training minibatch.\n",
      "  tf_train_dataset = tf.placeholder(tf.float32,\n",
      "                                    shape=(batch_size, image_size * image_size))\n",
      "  tf_train_labels = tf.placeholder(tf.float32, shape=(batch_size, num_labels))\n",
      "  tf_valid_dataset = tf.constant(valid_dataset)\n",
      "  tf_test_dataset = tf.constant(test_dataset)\n",
      "  \n",
      "  # Variables.\n",
      "  weights_layer1 = tf.Variable(tf.truncated_normal([image_size * image_size, 1024], stddev=np.sqrt(2.0 / (image_size * image_size))))\n",
      "  biases_layer1 = tf.Variable(tf.zeros([1024]))\n",
      "  weights_layer2 = tf.Variable(tf.truncated_normal([1024, 305], stddev=np.sqrt(2.0 / 1024)))\n",
      "  biases_layer2 = tf.Variable(tf.zeros([305]))\n",
      "  weights_layer3 = tf.Variable(tf.truncated_normal([305, 75], stddev=np.sqrt(2.0 / 305)))\n",
      "  biases_layer3 = tf.Variable(tf.zeros([75]))\n",
      "  weights_layer4 = tf.Variable(tf.truncated_normal([75, num_labels], stddev=np.sqrt(2.0 / 75)))\n",
      "  biases_layer4 = tf.Variable(tf.zeros([num_labels]))\n",
      "\n",
      "  weights_layers = [weights_layer1, weights_layer2, weights_layer3, weights_layer4]\n",
      "  biases_layers = [biases_layer1, biases_layer2, biases_layer3, biases_layer4]\n",
      "\n",
      "  # Training computation.\n",
      "  #train1 = tf.nn.dropout(tf.nn.relu(tf.matmul(tf_train_dataset, weights_layer1) + biases_layer1), 0.5)\n",
      "  #train2 = tf.nn.dropout(tf.nn.relu(tf.matmul(train1, weights_layer2) + biases_layer2), 0.5)\n",
      "  #train3 = tf.nn.dropout(tf.nn.relu(tf.matmul(train2, weights_layer3) + biases_layer3), 0.5)\n",
      "  #train4 = tf.nn.dropout(tf.nn.relu(tf.matmul(train3, weights_layer4) + biases_layer4), 0.5)\n",
      "  #logits = tf.matmul(train4, weights_layer5) + biases_layer5\n",
      "  logits = calc_output(tf_train_dataset, weights_layers, biases_layers, 0.8, True)\n",
      "  loss = tf.reduce_mean(tf.nn.softmax_cross_entropy_with_logits(logits, tf_train_labels)\n",
      "                        #+ beta1 * tf.nn.l2_loss(weights_layer1) \n",
      "                        #+ beta2 * tf.nn.l2_loss(weights_layer2)\n",
      "                        #+ beta3 * tf.nn.l2_loss(weights_layer3)\n",
      "                        #+ beta4 * tf.nn.l2_loss(weights_layer4)\n",
      "                        )\n",
      "  global_step = tf.Variable(0)  # count the number of steps taken.\n",
      "  learning_rate = tf.train.exponential_decay(0.3, global_step, 25000, 0.1, staircase = True)\n",
      "    \n",
      "  # Optimizer.\n",
      "  optimizer = tf.train.GradientDescentOptimizer(learning_rate).minimize(loss, global_step = global_step)\n",
      "  \n",
      "  # Predictions for the training, validation, and test data.\n",
      "  train_prediction = tf.nn.softmax(logits)\n",
      "  \n",
      "  valid_out = calc_output(tf_valid_dataset, weights_layers, biases_layers, 0.5, False)\n",
      "  #valid1 = tf.nn.relu(tf.matmul(tf_valid_dataset, weights_layer1) + biases_layer1)\n",
      "  #valid2 = tf.nn.relu(tf.matmul(valid1, weights_layer2) + biases_layer2)\n",
      "  #valid3 = tf.nn.relu(tf.matmul(valid2, weights_layer3) + biases_layer3)\n",
      "  #valid4 = tf.nn.relu(tf.matmul(valid3, weights_layer4) + biases_layer4)\n",
      "  #valid_out = tf.matmul(valid4, weights_layer5) + biases_layer5  \n",
      "  valid_prediction = tf.nn.softmax(valid_out)\n",
      "    \n",
      "  test_out = calc_output(tf_test_dataset, weights_layers, biases_layers, 0.5, False)\n",
      "  #test1 = tf.nn.relu(tf.matmul(tf_test_dataset, weights_layer1) + biases_layer1)\n",
      "  #test2 = tf.nn.relu(tf.matmul(test1, weights_layer2) + biases_layer2)\n",
      "  #test3 = tf.nn.relu(tf.matmul(test2, weights_layer3) + biases_layer3)\n",
      "  #test4 = tf.nn.relu(tf.matmul(test3, weights_layer4) + biases_layer4)\n",
      "  #test_out = tf.matmul(test4, weights_layer5) + biases_layer5  \n",
      "  test_prediction = tf.nn.softmax(test_out)\n",
      "    \n",
      "num_steps = 25001\n",
      "\n",
      "with tf.Session(graph=graph) as session:\n",
      "  tf.initialize_all_variables().run()\n",
      "  print(\"Initialized\")\n",
      "  for step in range(num_steps):\n",
      "    # Pick an offset within the training data, which has been randomized.\n",
      "    # Note: we could use better randomization across epochs.\n",
      "    offset = (step * batch_size) % (train_labels.shape[0] - batch_size)\n",
      "    # Generate a minibatch.\n",
      "    batch_data = train_dataset[offset:(offset + batch_size), :]\n",
      "    batch_labels = train_labels[offset:(offset + batch_size), :]\n",
      "    # Prepare a dictionary telling the session where to feed the minibatch.\n",
      "    # The key of the dictionary is the placeholder node of the graph to be fed,\n",
      "    # and the value is the numpy array to feed to it.\n",
      "    feed_dict = {tf_train_dataset : batch_data, tf_train_labels : batch_labels}\n",
      "    _, l, predictions = session.run(\n",
      "      [optimizer, loss, train_prediction], feed_dict=feed_dict)\n",
      "    if (step % 500 == 0):\n",
      "      print(\"Minibatch loss at step %d: %f\" % (step, l))\n",
      "      print(\"Minibatch accuracy: %.1f%%\" % accuracy(predictions, batch_labels))\n",
      "      print(\"Validation accuracy: %.1f%%\" % accuracy(valid_prediction.eval(), valid_labels))\n",
      "  print(\"Test accuracy: %.1f%%\" % accuracy(test_prediction.eval(), test_labels))"
     ],
     "language": "python",
     "metadata": {},
     "outputs": [
      {
       "output_type": "stream",
       "stream": "stdout",
       "text": [
        "Initialized\n",
        "Minibatch loss at step 0: 2.371691\n",
        "Minibatch accuracy: 13.3%\n",
        "Validation accuracy: 28.7%\n",
        "Minibatch loss at step 500: 0.579501"
       ]
      },
      {
       "output_type": "stream",
       "stream": "stdout",
       "text": [
        "\n",
        "Minibatch accuracy: 84.4%\n",
        "Validation accuracy: 87.0%\n",
        "Minibatch loss at step 1000: 0.465567"
       ]
      },
      {
       "output_type": "stream",
       "stream": "stdout",
       "text": [
        "\n",
        "Minibatch accuracy: 84.4%\n",
        "Validation accuracy: 88.3%\n",
        "Minibatch loss at step 1500: 0.288679"
       ]
      },
      {
       "output_type": "stream",
       "stream": "stdout",
       "text": [
        "\n",
        "Minibatch accuracy: 92.2%\n",
        "Validation accuracy: 89.1%\n",
        "Minibatch loss at step 2000: 0.285638"
       ]
      },
      {
       "output_type": "stream",
       "stream": "stdout",
       "text": [
        "\n",
        "Minibatch accuracy: 89.8%\n",
        "Validation accuracy: 89.8%\n",
        "Minibatch loss at step 2500: 0.331611"
       ]
      },
      {
       "output_type": "stream",
       "stream": "stdout",
       "text": [
        "\n",
        "Minibatch accuracy: 89.1%\n",
        "Validation accuracy: 90.4%\n",
        "Minibatch loss at step 3000: 0.440826"
       ]
      },
      {
       "output_type": "stream",
       "stream": "stdout",
       "text": [
        "\n",
        "Minibatch accuracy: 88.3%\n",
        "Validation accuracy: 90.2%\n",
        "Minibatch loss at step 3500: 0.268213"
       ]
      },
      {
       "output_type": "stream",
       "stream": "stdout",
       "text": [
        "\n",
        "Minibatch accuracy: 92.2%\n",
        "Validation accuracy: 89.4%\n",
        "Minibatch loss at step 4000: 0.331127"
       ]
      },
      {
       "output_type": "stream",
       "stream": "stdout",
       "text": [
        "\n",
        "Minibatch accuracy: 90.6%\n",
        "Validation accuracy: 91.0%\n",
        "Minibatch loss at step 4500: 0.227144"
       ]
      },
      {
       "output_type": "stream",
       "stream": "stdout",
       "text": [
        "\n",
        "Minibatch accuracy: 93.8%\n",
        "Validation accuracy: 90.8%\n",
        "Minibatch loss at step 5000: 0.326443"
       ]
      },
      {
       "output_type": "stream",
       "stream": "stdout",
       "text": [
        "\n",
        "Minibatch accuracy: 86.7%\n",
        "Validation accuracy: 90.9%\n",
        "Minibatch loss at step 5500: 0.164832"
       ]
      },
      {
       "output_type": "stream",
       "stream": "stdout",
       "text": [
        "\n",
        "Minibatch accuracy: 95.3%\n",
        "Validation accuracy: 90.6%\n",
        "Minibatch loss at step 6000: 0.322659"
       ]
      },
      {
       "output_type": "stream",
       "stream": "stdout",
       "text": [
        "\n",
        "Minibatch accuracy: 93.8%\n",
        "Validation accuracy: 90.4%\n",
        "Minibatch loss at step 6500: 0.244929"
       ]
      },
      {
       "output_type": "stream",
       "stream": "stdout",
       "text": [
        "\n",
        "Minibatch accuracy: 88.3%\n",
        "Validation accuracy: 91.6%\n",
        "Minibatch loss at step 7000: 0.495717"
       ]
      },
      {
       "output_type": "stream",
       "stream": "stdout",
       "text": [
        "\n",
        "Minibatch accuracy: 83.6%\n",
        "Validation accuracy: 90.4%\n",
        "Minibatch loss at step 7500: 0.267736"
       ]
      },
      {
       "output_type": "stream",
       "stream": "stdout",
       "text": [
        "\n",
        "Minibatch accuracy: 90.6%\n",
        "Validation accuracy: 91.5%\n",
        "Minibatch loss at step 8000: 0.164184"
       ]
      },
      {
       "output_type": "stream",
       "stream": "stdout",
       "text": [
        "\n",
        "Minibatch accuracy: 93.8%\n",
        "Validation accuracy: 91.4%\n",
        "Minibatch loss at step 8500: 0.195746"
       ]
      },
      {
       "output_type": "stream",
       "stream": "stdout",
       "text": [
        "\n",
        "Minibatch accuracy: 93.0%\n",
        "Validation accuracy: 91.5%\n",
        "Minibatch loss at step 9000: 0.253642"
       ]
      },
      {
       "output_type": "stream",
       "stream": "stdout",
       "text": [
        "\n",
        "Minibatch accuracy: 91.4%\n",
        "Validation accuracy: 91.6%\n",
        "Minibatch loss at step 9500: 0.201177"
       ]
      },
      {
       "output_type": "stream",
       "stream": "stdout",
       "text": [
        "\n",
        "Minibatch accuracy: 93.8%\n",
        "Validation accuracy: 91.6%\n",
        "Minibatch loss at step 10000: 0.288618"
       ]
      },
      {
       "output_type": "stream",
       "stream": "stdout",
       "text": [
        "\n",
        "Minibatch accuracy: 89.8%\n",
        "Validation accuracy: 90.6%\n",
        "Minibatch loss at step 10500: 0.273313"
       ]
      },
      {
       "output_type": "stream",
       "stream": "stdout",
       "text": [
        "\n",
        "Minibatch accuracy: 89.8%\n",
        "Validation accuracy: 90.8%\n",
        "Minibatch loss at step 11000: 0.121342"
       ]
      },
      {
       "output_type": "stream",
       "stream": "stdout",
       "text": [
        "\n",
        "Minibatch accuracy: 96.9%\n",
        "Validation accuracy: 92.0%\n",
        "Minibatch loss at step 11500: 0.167462"
       ]
      },
      {
       "output_type": "stream",
       "stream": "stdout",
       "text": [
        "\n",
        "Minibatch accuracy: 94.5%\n",
        "Validation accuracy: 91.5%\n",
        "Minibatch loss at step 12000: 0.240993"
       ]
      },
      {
       "output_type": "stream",
       "stream": "stdout",
       "text": [
        "\n",
        "Minibatch accuracy: 90.6%\n",
        "Validation accuracy: 90.8%\n",
        "Minibatch loss at step 12500: 0.208135"
       ]
      },
      {
       "output_type": "stream",
       "stream": "stdout",
       "text": [
        "\n",
        "Minibatch accuracy: 93.0%\n",
        "Validation accuracy: 91.7%\n",
        "Minibatch loss at step 13000: 0.147568"
       ]
      },
      {
       "output_type": "stream",
       "stream": "stdout",
       "text": [
        "\n",
        "Minibatch accuracy: 95.3%\n",
        "Validation accuracy: 91.6%\n",
        "Minibatch loss at step 13500: 0.237362"
       ]
      },
      {
       "output_type": "stream",
       "stream": "stdout",
       "text": [
        "\n",
        "Minibatch accuracy: 91.4%\n",
        "Validation accuracy: 91.9%\n",
        "Minibatch loss at step 14000: 0.189317"
       ]
      },
      {
       "output_type": "stream",
       "stream": "stdout",
       "text": [
        "\n",
        "Minibatch accuracy: 92.2%\n",
        "Validation accuracy: 91.6%\n",
        "Minibatch loss at step 14500: 0.195739"
       ]
      },
      {
       "output_type": "stream",
       "stream": "stdout",
       "text": [
        "\n",
        "Minibatch accuracy: 93.0%\n",
        "Validation accuracy: 92.0%\n",
        "Minibatch loss at step 15000: 0.139383"
       ]
      },
      {
       "output_type": "stream",
       "stream": "stdout",
       "text": [
        "\n",
        "Minibatch accuracy: 96.1%\n",
        "Validation accuracy: 91.7%\n",
        "Minibatch loss at step 15500: 0.285316"
       ]
      },
      {
       "output_type": "stream",
       "stream": "stdout",
       "text": [
        "\n",
        "Minibatch accuracy: 91.4%\n",
        "Validation accuracy: 91.8%\n",
        "Minibatch loss at step 16000: 0.250551"
       ]
      },
      {
       "output_type": "stream",
       "stream": "stdout",
       "text": [
        "\n",
        "Minibatch accuracy: 92.2%\n",
        "Validation accuracy: 92.1%\n",
        "Minibatch loss at step 16500: 0.223955"
       ]
      },
      {
       "output_type": "stream",
       "stream": "stdout",
       "text": [
        "\n",
        "Minibatch accuracy: 92.2%\n",
        "Validation accuracy: 91.4%\n",
        "Minibatch loss at step 17000: 0.106492"
       ]
      },
      {
       "output_type": "stream",
       "stream": "stdout",
       "text": [
        "\n",
        "Minibatch accuracy: 96.9%\n",
        "Validation accuracy: 92.0%\n",
        "Minibatch loss at step 17500: 0.206619"
       ]
      },
      {
       "output_type": "stream",
       "stream": "stdout",
       "text": [
        "\n",
        "Minibatch accuracy: 93.0%\n",
        "Validation accuracy: 92.3%\n",
        "Minibatch loss at step 18000: 0.163892"
       ]
      },
      {
       "output_type": "stream",
       "stream": "stdout",
       "text": [
        "\n",
        "Minibatch accuracy: 93.0%\n",
        "Validation accuracy: 91.7%\n",
        "Minibatch loss at step 18500: 0.239172"
       ]
      },
      {
       "output_type": "stream",
       "stream": "stdout",
       "text": [
        "\n",
        "Minibatch accuracy: 93.0%\n",
        "Validation accuracy: 92.2%\n",
        "Minibatch loss at step 19000: 0.183802"
       ]
      },
      {
       "output_type": "stream",
       "stream": "stdout",
       "text": [
        "\n",
        "Minibatch accuracy: 93.8%\n",
        "Validation accuracy: 92.5%\n",
        "Minibatch loss at step 19500: 0.136812"
       ]
      },
      {
       "output_type": "stream",
       "stream": "stdout",
       "text": [
        "\n",
        "Minibatch accuracy: 96.1%\n",
        "Validation accuracy: 92.4%\n",
        "Minibatch loss at step 20000: 0.255613"
       ]
      },
      {
       "output_type": "stream",
       "stream": "stdout",
       "text": [
        "\n",
        "Minibatch accuracy: 89.8%\n",
        "Validation accuracy: 92.1%\n",
        "Minibatch loss at step 20500: 0.181962"
       ]
      },
      {
       "output_type": "stream",
       "stream": "stdout",
       "text": [
        "\n",
        "Minibatch accuracy: 94.5%\n",
        "Validation accuracy: 92.6%\n",
        "Minibatch loss at step 21000: 0.111805"
       ]
      },
      {
       "output_type": "stream",
       "stream": "stdout",
       "text": [
        "\n",
        "Minibatch accuracy: 95.3%\n",
        "Validation accuracy: 92.0%\n",
        "Minibatch loss at step 21500: 0.153604"
       ]
      },
      {
       "output_type": "stream",
       "stream": "stdout",
       "text": [
        "\n",
        "Minibatch accuracy: 95.3%\n",
        "Validation accuracy: 92.0%\n",
        "Minibatch loss at step 22000: 0.142009"
       ]
      },
      {
       "output_type": "stream",
       "stream": "stdout",
       "text": [
        "\n",
        "Minibatch accuracy: 96.1%\n",
        "Validation accuracy: 92.7%\n",
        "Minibatch loss at step 22500: 0.199113"
       ]
      },
      {
       "output_type": "stream",
       "stream": "stdout",
       "text": [
        "\n",
        "Minibatch accuracy: 94.5%\n",
        "Validation accuracy: 91.9%\n",
        "Minibatch loss at step 23000: 0.159352"
       ]
      },
      {
       "output_type": "stream",
       "stream": "stdout",
       "text": [
        "\n",
        "Minibatch accuracy: 96.1%\n",
        "Validation accuracy: 92.6%\n",
        "Minibatch loss at step 23500: 0.146049"
       ]
      },
      {
       "output_type": "stream",
       "stream": "stdout",
       "text": [
        "\n",
        "Minibatch accuracy: 96.1%\n",
        "Validation accuracy: 92.0%\n",
        "Minibatch loss at step 24000: 0.097657"
       ]
      },
      {
       "output_type": "stream",
       "stream": "stdout",
       "text": [
        "\n",
        "Minibatch accuracy: 97.7%\n",
        "Validation accuracy: 92.5%\n",
        "Minibatch loss at step 24500: 0.200201"
       ]
      },
      {
       "output_type": "stream",
       "stream": "stdout",
       "text": [
        "\n",
        "Minibatch accuracy: 93.8%\n",
        "Validation accuracy: 92.6%\n",
        "Minibatch loss at step 25000: 0.094095"
       ]
      },
      {
       "output_type": "stream",
       "stream": "stdout",
       "text": [
        "\n",
        "Minibatch accuracy: 95.3%\n",
        "Validation accuracy: 92.4%\n",
        "Test accuracy: 94.9%"
       ]
      },
      {
       "output_type": "stream",
       "stream": "stdout",
       "text": [
        "\n"
       ]
      }
     ],
     "prompt_number": 108
    },
    {
     "cell_type": "markdown",
     "metadata": {
      "colab_type": "text",
      "id": "sgLbUAQ1CW-1"
     },
     "source": [
      "---\n",
      "Problem 1\n",
      "---------\n",
      "\n",
      "Introduce and tune L2 regularization for both logistic and neural network models. Remember that L2 amounts to adding a penalty on the norm of the weights to the loss. In TensorFlow, you can compute the L2 loss for a tensor `t` using `nn.l2_loss(t)`. The right amount of regularization should improve your validation / test accuracy.\n",
      "\n",
      "---"
     ]
    },
    {
     "cell_type": "code",
     "collapsed": false,
     "input": [
      "batch_size = 128\n",
      "\n",
      "beta1 = 0.003\n",
      "beta2 = 0.003\n",
      "graph = tf.Graph()\n",
      "with graph.as_default():\n",
      "\n",
      "  # Input data. For the training data, we use a placeholder that will be fed\n",
      "  # at run time with a training minibatch.\n",
      "  tf_train_dataset = tf.placeholder(tf.float32,\n",
      "                                    shape=(batch_size, image_size * image_size))\n",
      "  tf_train_labels = tf.placeholder(tf.float32, shape=(batch_size, num_labels))\n",
      "  tf_valid_dataset = tf.constant(valid_dataset)\n",
      "  tf_test_dataset = tf.constant(test_dataset)\n",
      "  \n",
      "  # Variables.\n",
      "  weights_layer1 = tf.Variable(tf.truncated_normal([image_size * image_size, 1024]))\n",
      "  biases_layer1 = tf.Variable(tf.zeros([1024]))\n",
      "  weights_layer2 = tf.Variable(tf.truncated_normal([1024, num_labels]))\n",
      "  biases_layer2 = tf.Variable(tf.zeros([num_labels]))\n",
      "\n",
      "  # Training computation.\n",
      "  relu_out = tf.nn.relu(tf.matmul(tf_train_dataset, weights_layer1) + biases_layer1)\n",
      "  logits = tf.matmul(relu_out, weights_layer2) + biases_layer2\n",
      "  loss = tf.reduce_mean(tf.nn.softmax_cross_entropy_with_logits(logits, tf_train_labels) +\n",
      "                        beta1 * tf.nn.l2_loss(weights_layer1) + \n",
      "                        beta2 * tf.nn.l2_loss(weights_layer2))\n",
      "  \n",
      "  # Optimizer.\n",
      "  optimizer = tf.train.GradientDescentOptimizer(0.5).minimize(loss)\n",
      "  \n",
      "  # Predictions for the training, validation, and test data.\n",
      "  train_prediction = tf.nn.softmax(logits)\n",
      "  valid_relu_out = tf.nn.relu(tf.matmul(tf_valid_dataset, weights_layer1) + biases_layer1)\n",
      "  valid_prediction = tf.nn.softmax(tf.matmul(valid_relu_out, weights_layer2) + biases_layer2)\n",
      "  test_relu_out = tf.nn.relu(tf.matmul(tf_test_dataset, weights_layer1) + biases_layer1)\n",
      "  test_prediction = tf.nn.softmax(tf.matmul(test_relu_out, weights_layer2) + biases_layer2)\n",
      "    \n",
      "num_steps = 3001\n",
      "\n",
      "with tf.Session(graph=graph) as session:\n",
      "  tf.initialize_all_variables().run()\n",
      "  print(\"Initialized\")\n",
      "  for step in range(num_steps):\n",
      "    # Pick an offset within the training data, which has been randomized.\n",
      "    # Note: we could use better randomization across epochs.\n",
      "    offset = (step * batch_size) % (train_labels.shape[0] - batch_size)\n",
      "    # Generate a minibatch.\n",
      "    batch_data = train_dataset[offset:(offset + batch_size), :]\n",
      "    batch_labels = train_labels[offset:(offset + batch_size), :]\n",
      "    # Prepare a dictionary telling the session where to feed the minibatch.\n",
      "    # The key of the dictionary is the placeholder node of the graph to be fed,\n",
      "    # and the value is the numpy array to feed to it.\n",
      "    feed_dict = {tf_train_dataset : batch_data, tf_train_labels : batch_labels}\n",
      "    _, l, predictions = session.run(\n",
      "      [optimizer, loss, train_prediction], feed_dict=feed_dict)\n",
      "    if (step % 500 == 0):\n",
      "      print(\"Minibatch loss at step %d: %f\" % (step, l))\n",
      "      print(\"Minibatch accuracy: %.1f%%\" % accuracy(predictions, batch_labels))\n",
      "      print(\"Validation accuracy: %.1f%%\" % accuracy(valid_prediction.eval(), valid_labels))\n",
      "  print(\"Test accuracy: %.1f%%\" % accuracy(test_prediction.eval(), test_labels))"
     ],
     "language": "python",
     "metadata": {},
     "outputs": [
      {
       "output_type": "stream",
       "stream": "stdout",
       "text": [
        "Initialized\n",
        "Minibatch loss at step 0: 1262.497559\n",
        "Minibatch accuracy: 7.0%\n",
        "Validation accuracy: 17.8%\n",
        "Minibatch loss at step 500: 209.360352"
       ]
      },
      {
       "output_type": "stream",
       "stream": "stdout",
       "text": [
        "\n",
        "Minibatch accuracy: 78.1%\n",
        "Validation accuracy: 83.1%\n",
        "Minibatch loss at step 1000: 46.076897"
       ]
      },
      {
       "output_type": "stream",
       "stream": "stdout",
       "text": [
        "\n",
        "Minibatch accuracy: 86.7%\n",
        "Validation accuracy: 87.4%\n",
        "Minibatch loss at step 1500: 10.569474"
       ]
      },
      {
       "output_type": "stream",
       "stream": "stdout",
       "text": [
        "\n",
        "Minibatch accuracy: 91.4%\n",
        "Validation accuracy: 88.0%\n",
        "Minibatch loss at step 2000: 2.811943"
       ]
      },
      {
       "output_type": "stream",
       "stream": "stdout",
       "text": [
        "\n",
        "Minibatch accuracy: 85.9%\n",
        "Validation accuracy: 87.7%\n",
        "Minibatch loss at step 2500: 1.051818"
       ]
      },
      {
       "output_type": "stream",
       "stream": "stdout",
       "text": [
        "\n",
        "Minibatch accuracy: 88.3%\n",
        "Validation accuracy: 87.0%\n",
        "Minibatch loss at step 3000: 0.776553"
       ]
      },
      {
       "output_type": "stream",
       "stream": "stdout",
       "text": [
        "\n",
        "Minibatch accuracy: 83.6%\n",
        "Validation accuracy: 87.9%\n",
        "Test accuracy: 90.6%\n"
       ]
      }
     ],
     "prompt_number": 54
    },
    {
     "cell_type": "markdown",
     "metadata": {
      "colab_type": "text",
      "id": "na8xX2yHZzNF"
     },
     "source": [
      "---\n",
      "Problem 2\n",
      "---------\n",
      "Let's demonstrate an extreme case of overfitting. Restrict your training data to just a few batches. What happens?\n",
      "\n",
      "---"
     ]
    },
    {
     "cell_type": "code",
     "collapsed": false,
     "input": [
      "batch_size = 128\n",
      "\n",
      "beta1 = 0.003\n",
      "beta2 = 0.003\n",
      "graph = tf.Graph()\n",
      "with graph.as_default():\n",
      "\n",
      "  # Input data. For the training data, we use a placeholder that will be fed\n",
      "  # at run time with a training minibatch.\n",
      "  tf_train_dataset = tf.placeholder(tf.float32,\n",
      "                                    shape=(batch_size, image_size * image_size))\n",
      "  tf_train_labels = tf.placeholder(tf.float32, shape=(batch_size, num_labels))\n",
      "  tf_valid_dataset = tf.constant(valid_dataset)\n",
      "  tf_test_dataset = tf.constant(test_dataset)\n",
      "  \n",
      "  # Variables.\n",
      "  weights_layer1 = tf.Variable(tf.truncated_normal([image_size * image_size, 1024]))\n",
      "  biases_layer1 = tf.Variable(tf.zeros([1024]))\n",
      "  weights_layer2 = tf.Variable(tf.truncated_normal([1024, num_labels]))\n",
      "  biases_layer2 = tf.Variable(tf.zeros([num_labels]))\n",
      "\n",
      "  # Training computation.\n",
      "  relu_out = tf.nn.relu(tf.matmul(tf_train_dataset, weights_layer1) + biases_layer1)\n",
      "  logits = tf.matmul(relu_out, weights_layer2) + biases_layer2\n",
      "  loss = tf.reduce_mean(tf.nn.softmax_cross_entropy_with_logits(logits, tf_train_labels) +\n",
      "                        beta1 * tf.nn.l2_loss(weights_layer1) + \n",
      "                        beta2 * tf.nn.l2_loss(weights_layer2))\n",
      "  \n",
      "  # Optimizer.\n",
      "  optimizer = tf.train.GradientDescentOptimizer(0.5).minimize(loss)\n",
      "  \n",
      "  # Predictions for the training, validation, and test data.\n",
      "  train_prediction = tf.nn.softmax(logits)\n",
      "  valid_relu_out = tf.nn.relu(tf.matmul(tf_valid_dataset, weights_layer1) + biases_layer1)\n",
      "  valid_prediction = tf.nn.softmax(tf.matmul(valid_relu_out, weights_layer2) + biases_layer2)\n",
      "  test_relu_out = tf.nn.relu(tf.matmul(tf_test_dataset, weights_layer1) + biases_layer1)\n",
      "  test_prediction = tf.nn.softmax(tf.matmul(test_relu_out, weights_layer2) + biases_layer2)\n",
      "    \n",
      "num_steps = 3001\n",
      "num_batches = 3\n",
      "\n",
      "with tf.Session(graph=graph) as session:\n",
      "  tf.initialize_all_variables().run()\n",
      "  print(\"Initialized\")\n",
      "  for step in range(num_steps):\n",
      "    # Pick an offset within the training data, which has been randomized.\n",
      "    # Note: we could use better randomization across epochs.\n",
      "    offset = int(((step % num_batches) * batch_size) * np.random.random_sample())\n",
      "    # Generate a minibatch.\n",
      "    batch_data = train_dataset[offset:(offset + batch_size), :]\n",
      "    batch_labels = train_labels[offset:(offset + batch_size), :]\n",
      "    # Prepare a dictionary telling the session where to feed the minibatch.\n",
      "    # The key of the dictionary is the placeholder node of the graph to be fed,\n",
      "    # and the value is the numpy array to feed to it.\n",
      "    feed_dict = {tf_train_dataset : batch_data, tf_train_labels : batch_labels}\n",
      "    _, l, predictions = session.run(\n",
      "      [optimizer, loss, train_prediction], feed_dict=feed_dict)\n",
      "    if (step % 500 == 0):\n",
      "      print(\"Minibatch loss at step %d: %f\" % (step, l))\n",
      "      print(\"Minibatch accuracy: %.1f%%\" % accuracy(predictions, batch_labels))\n",
      "      print(\"Validation accuracy: %.1f%%\" % accuracy(valid_prediction.eval(), valid_labels))\n",
      "  print(\"Test accuracy: %.1f%%\" % accuracy(test_prediction.eval(), test_labels))"
     ],
     "language": "python",
     "metadata": {
      "scrolled": true
     },
     "outputs": [
      {
       "output_type": "stream",
       "stream": "stdout",
       "text": [
        "Initialized\n",
        "Minibatch loss at step 0: 1224.773560\n",
        "Minibatch accuracy: 7.8%\n",
        "Validation accuracy: 22.0%\n",
        "Minibatch loss at step 500: 210.465729"
       ]
      },
      {
       "output_type": "stream",
       "stream": "stdout",
       "text": [
        "\n",
        "Minibatch accuracy: 100.0%\n",
        "Validation accuracy: 72.5%\n",
        "Minibatch loss at step 1000: 46.909550"
       ]
      },
      {
       "output_type": "stream",
       "stream": "stdout",
       "text": [
        "\n",
        "Minibatch accuracy: 100.0%\n",
        "Validation accuracy: 72.8%\n",
        "Minibatch loss at step 1500: 10.475366"
       ]
      },
      {
       "output_type": "stream",
       "stream": "stdout",
       "text": [
        "\n",
        "Minibatch accuracy: 100.0%\n",
        "Validation accuracy: 75.0%\n",
        "Minibatch loss at step 2000: 2.402307"
       ]
      },
      {
       "output_type": "stream",
       "stream": "stdout",
       "text": [
        "\n",
        "Minibatch accuracy: 100.0%\n",
        "Validation accuracy: 77.5%\n",
        "Minibatch loss at step 2500: 0.616313"
       ]
      },
      {
       "output_type": "stream",
       "stream": "stdout",
       "text": [
        "\n",
        "Minibatch accuracy: 100.0%\n",
        "Validation accuracy: 77.0%\n",
        "Minibatch loss at step 3000: 0.214203"
       ]
      },
      {
       "output_type": "stream",
       "stream": "stdout",
       "text": [
        "\n",
        "Minibatch accuracy: 100.0%\n",
        "Validation accuracy: 77.6%\n",
        "Test accuracy: 83.8%\n"
       ]
      }
     ],
     "prompt_number": 55
    },
    {
     "cell_type": "markdown",
     "metadata": {
      "colab_type": "text",
      "id": "ww3SCBUdlkRc"
     },
     "source": [
      "---\n",
      "Problem 3\n",
      "---------\n",
      "Introduce Dropout on the hidden layer of the neural network. Remember: Dropout should only be introduced during training, not evaluation, otherwise your evaluation results would be stochastic as well. TensorFlow provides `nn.dropout()` for that, but you have to make sure it's only inserted during training.\n",
      "\n",
      "What happens to our extreme overfitting case?\n",
      "\n",
      "---"
     ]
    },
    {
     "cell_type": "code",
     "collapsed": false,
     "input": [
      "batch_size = 128\n",
      "\n",
      "beta1 = 0.003\n",
      "beta2 = 0.003\n",
      "graph = tf.Graph()\n",
      "with graph.as_default():\n",
      "\n",
      "  # Input data. For the training data, we use a placeholder that will be fed\n",
      "  # at run time with a training minibatch.\n",
      "  tf_train_dataset = tf.placeholder(tf.float32,\n",
      "                                    shape=(batch_size, image_size * image_size))\n",
      "  tf_train_labels = tf.placeholder(tf.float32, shape=(batch_size, num_labels))\n",
      "  tf_valid_dataset = tf.constant(valid_dataset)\n",
      "  tf_test_dataset = tf.constant(test_dataset)\n",
      "  \n",
      "  # Variables.\n",
      "  weights_layer1 = tf.Variable(tf.truncated_normal([image_size * image_size, 1024]))\n",
      "  biases_layer1 = tf.Variable(tf.zeros([1024]))\n",
      "  weights_layer2 = tf.Variable(tf.truncated_normal([1024, num_labels]))\n",
      "  biases_layer2 = tf.Variable(tf.zeros([num_labels]))\n",
      "\n",
      "  # Training computation.\n",
      "  relu_out = tf.nn.relu(tf.matmul(tf_train_dataset, weights_layer1) + biases_layer1)\n",
      "  dropout_out = tf.nn.dropout(relu_out, 0.5)\n",
      "  logits = tf.matmul(dropout_out, weights_layer2) + biases_layer2\n",
      "  loss = tf.reduce_mean(tf.nn.softmax_cross_entropy_with_logits(logits, tf_train_labels) +\n",
      "                        beta1 * tf.nn.l2_loss(weights_layer1) + \n",
      "                        beta2 * tf.nn.l2_loss(weights_layer2))\n",
      "  \n",
      "  # Optimizer.\n",
      "  optimizer = tf.train.GradientDescentOptimizer(0.5).minimize(loss)\n",
      "  \n",
      "  # Predictions for the training, validation, and test data.\n",
      "  train_prediction = tf.nn.softmax(logits)\n",
      "  valid_relu_out = tf.nn.relu(tf.matmul(tf_valid_dataset, weights_layer1) + biases_layer1)\n",
      "  valid_prediction = tf.nn.softmax(tf.matmul(valid_relu_out, weights_layer2 * 0.5) + biases_layer2)\n",
      "  test_relu_out = tf.nn.relu(tf.matmul(tf_test_dataset, weights_layer1) + biases_layer1)\n",
      "  test_prediction = tf.nn.softmax(tf.matmul(test_relu_out, weights_layer2 * 0.5) + biases_layer2)\n",
      "    \n",
      "num_steps = 3001\n",
      "num_batches = 3\n",
      "\n",
      "with tf.Session(graph=graph) as session:\n",
      "  tf.initialize_all_variables().run()\n",
      "  print(\"Initialized\")\n",
      "  for step in range(num_steps):\n",
      "    # Pick an offset within the training data, which has been randomized.\n",
      "    # Note: we could use better randomization across epochs.\n",
      "    offset = int(((step % num_batches) * batch_size) * np.random.random_sample())\n",
      "    # Generate a minibatch.\n",
      "    batch_data = train_dataset[offset:(offset + batch_size), :]\n",
      "    batch_labels = train_labels[offset:(offset + batch_size), :]\n",
      "    # Prepare a dictionary telling the session where to feed the minibatch.\n",
      "    # The key of the dictionary is the placeholder node of the graph to be fed,\n",
      "    # and the value is the numpy array to feed to it.\n",
      "    feed_dict = {tf_train_dataset : batch_data, tf_train_labels : batch_labels}\n",
      "    _, l, predictions = session.run(\n",
      "      [optimizer, loss, train_prediction], feed_dict=feed_dict)\n",
      "    if (step % 500 == 0):\n",
      "      print(\"Minibatch loss at step %d: %f\" % (step, l))\n",
      "      print(\"Minibatch accuracy: %.1f%%\" % accuracy(predictions, batch_labels))\n",
      "      print(\"Validation accuracy: %.1f%%\" % accuracy(valid_prediction.eval(), valid_labels))\n",
      "  print(\"Test accuracy: %.1f%%\" % accuracy(test_prediction.eval(), test_labels))"
     ],
     "language": "python",
     "metadata": {
      "scrolled": true
     },
     "outputs": [
      {
       "output_type": "stream",
       "stream": "stdout",
       "text": [
        "Initialized\n",
        "Minibatch loss at step 0: 1421.427490\n",
        "Minibatch accuracy: 10.2%\n",
        "Validation accuracy: 22.7%\n",
        "Minibatch loss at step 500: 211.144394"
       ]
      },
      {
       "output_type": "stream",
       "stream": "stdout",
       "text": [
        "\n",
        "Minibatch accuracy: 100.0%\n",
        "Validation accuracy: 75.7%\n",
        "Minibatch loss at step 1000: 47.070709"
       ]
      },
      {
       "output_type": "stream",
       "stream": "stdout",
       "text": [
        "\n",
        "Minibatch accuracy: 100.0%\n",
        "Validation accuracy: 75.6%\n",
        "Minibatch loss at step 1500: 10.505010"
       ]
      },
      {
       "output_type": "stream",
       "stream": "stdout",
       "text": [
        "\n",
        "Minibatch accuracy: 100.0%\n",
        "Validation accuracy: 75.4%\n",
        "Minibatch loss at step 2000: 2.435060"
       ]
      },
      {
       "output_type": "stream",
       "stream": "stdout",
       "text": [
        "\n",
        "Minibatch accuracy: 100.0%\n",
        "Validation accuracy: 77.3%\n",
        "Minibatch loss at step 2500: 0.625027"
       ]
      },
      {
       "output_type": "stream",
       "stream": "stdout",
       "text": [
        "\n",
        "Minibatch accuracy: 100.0%\n",
        "Validation accuracy: 77.4%\n",
        "Minibatch loss at step 3000: 0.222229"
       ]
      },
      {
       "output_type": "stream",
       "stream": "stdout",
       "text": [
        "\n",
        "Minibatch accuracy: 100.0%\n",
        "Validation accuracy: 77.3%\n",
        "Test accuracy: 83.9%\n"
       ]
      }
     ],
     "prompt_number": 56
    },
    {
     "cell_type": "code",
     "collapsed": false,
     "input": [],
     "language": "python",
     "metadata": {},
     "outputs": []
    }
   ],
   "metadata": {}
  }
 ]
}